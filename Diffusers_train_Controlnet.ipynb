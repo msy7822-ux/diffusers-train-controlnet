{
  "cells": [
    {
      "cell_type": "markdown",
      "metadata": {
        "id": "view-in-github",
        "colab_type": "text"
      },
      "source": [
        "<a href=\"https://colab.research.google.com/github/msy7822-ux/diffusers-train-controlnet/blob/main/Diffusers_train_Controlnet.ipynb\" target=\"_parent\"><img src=\"https://colab.research.google.com/assets/colab-badge.svg\" alt=\"Open In Colab\"/></a>"
      ]
    },
    {
      "cell_type": "markdown",
      "metadata": {
        "id": "r4Bv958C1XNE"
      },
      "source": [
        "### ControlNet学習 参考\n",
        "- https://zenn.dev/mattyamonaca/articles/23cc474bc879e6\n",
        "- https://huggingface.co/blog/train-your-controlnet"
      ]
    },
    {
      "cell_type": "markdown",
      "metadata": {
        "id": "aOR2RyN85x2l"
      },
      "source": []
    },
    {
      "cell_type": "code",
      "execution_count": null,
      "metadata": {
        "id": "k7vFeUudtY2z"
      },
      "outputs": [],
      "source": [
        "# @title mount Google Drive\n",
        "\n",
        "from google.colab import drive\n",
        "drive.mount('/content/drive')"
      ]
    },
    {
      "cell_type": "code",
      "execution_count": null,
      "metadata": {
        "id": "9yYAGWL1seoj"
      },
      "outputs": [],
      "source": [
        "# @title hugging face login\n",
        "\n",
        "!pip install huggingface_hub==0.22.2\n",
        "# !huggingface-cli login\n",
        "\n",
        "# NOTE: CLIよりこっちのが使いやすい\n",
        "import huggingface_hub\n",
        "huggingface_hub.login()"
      ]
    },
    {
      "cell_type": "code",
      "execution_count": null,
      "metadata": {
        "id": "scQ9lfBHc7mG"
      },
      "outputs": [],
      "source": [
        "# @title Install Library 1\n",
        "\n",
        "!pip install git+https://github.com/huggingface/diffusers.git transformers accelerate xformers==0.0.17 wandb\n",
        "# !wandb login"
      ]
    },
    {
      "cell_type": "code",
      "source": [
        "# !pip install --upgrade diffusers huggingface_hub"
      ],
      "metadata": {
        "id": "1tRm9J_UZwnW"
      },
      "execution_count": null,
      "outputs": []
    },
    {
      "cell_type": "code",
      "execution_count": null,
      "metadata": {
        "id": "r3EQpmvJu-jJ"
      },
      "outputs": [],
      "source": [
        "# @title clone diffusers repo\n",
        "\n",
        "!ls\n",
        "!git clone https://github.com/huggingface/diffusers.git /content/drive/MyDrive/diffusers\n",
        "%cd /content/drive/MyDrive/diffusers\n"
      ]
    },
    {
      "cell_type": "code",
      "execution_count": null,
      "metadata": {
        "id": "mNfDY5G1v3bK",
        "cellView": "form"
      },
      "outputs": [],
      "source": [
        "# @title change workspace directory\n",
        "\n",
        "%cd /content/drive/MyDrive/diffusers"
      ]
    },
    {
      "cell_type": "code",
      "execution_count": null,
      "metadata": {
        "id": "600drssSwaJr"
      },
      "outputs": [],
      "source": [
        "# @title Install Library 2\n",
        "\n",
        "%cd /content/drive/MyDrive/diffusers/examples/controlnet\n",
        "\n",
        "!pip install -r requirements.txt\n",
        "!pip install datasets"
      ]
    },
    {
      "cell_type": "code",
      "execution_count": null,
      "metadata": {
        "id": "xq0PU4ka8_tM"
      },
      "outputs": [],
      "source": [
        "!ls /content/drive/MyDrive/diffusers/examples/datasets_v2\n",
        "# !ls /content/"
      ]
    },
    {
      "cell_type": "code",
      "execution_count": null,
      "metadata": {
        "id": "y0aIvLH_zA-g",
        "cellView": "form"
      },
      "outputs": [],
      "source": [
        "# @title HF Script\n",
        "\n",
        "from datasets import Dataset, load_dataset\n",
        "from huggingface_hub import HfApi, HfFolder\n",
        "import os\n",
        "from PIL import Image\n",
        "\n",
        "def is_image_file_by_extension(file_path):\n",
        "    image_extensions = ['.jpg', '.jpeg', '.png', '.bmp', '.gif']\n",
        "    _, extension = os.path.splitext(file_path)\n",
        "    return extension.lower() in image_extensions\n",
        "\n",
        "def is_image_file(file_path):\n",
        "    try:\n",
        "        with Image.open(file_path) as img:\n",
        "            return True\n",
        "    except:\n",
        "        return False\n",
        "\n",
        "def create_dataset_from_images(path):\n",
        "    \"\"\"\n",
        "    画像フォルダから画像のパスを読み込んでDatasetを作成する\n",
        "    \"\"\"\n",
        "\n",
        "    image_folder = os.path.join(path, \"target\")\n",
        "    conditioning_folder = os.path.join(path, \"source\")\n",
        "\n",
        "    print(image_folder, conditioning_folder)\n",
        "\n",
        "    image = [Image.open(os.path.join(image_folder, f)) for f in os.listdir(image_folder) if os.path.isfile(os.path.join(image_folder, f))]\n",
        "    conditioning = [Image.open(os.path.join(conditioning_folder, f)) for f in os.listdir(conditioning_folder) if os.path.isfile(os.path.join(conditioning_folder, f)) and (is_image_file_by_extension(os.path.join(conditioning_folder, f)))]\n",
        "\n",
        "    caption = [\"simple, single point perspective, one point perspective, anime,\"]*(len(image))\n",
        "\n",
        "    dataset = Dataset.from_dict({'image': image, 'conditioning': conditioning, 'caption': caption})\n",
        "    return dataset\n",
        "\n",
        "def upload_dataset_to_hub(dataset, dataset_name, organization=None):\n",
        "    \"\"\"\n",
        "    DatasetをHugging Face Hubにアップロードする\n",
        "    \"\"\"\n",
        "    # Hugging Faceの認証トークンを取得\n",
        "    api = HfApi()\n",
        "    token = HfFolder.get_token()\n",
        "    if token is None:\n",
        "        raise ValueError(\"Hugging Faceの認証トークンが見つかりません。huggingface-cliでログインしてください。\")\n",
        "\n",
        "    # データセットをアップロード\n",
        "    if organization:\n",
        "        repo_id = f\"{organization}/{dataset_name}\"\n",
        "    else:\n",
        "        repo_id = dataset_name\n",
        "        print(repo_id, token)\n",
        "    dataset.push_to_hub(repo_id, token=token)\n",
        "\n",
        "# 画像が格納されているローカルフォルダのパス\n",
        "image_folder = '/content/drive/MyDrive/diffusers/examples/datasets_v2'\n",
        "\n",
        "# Datasetオブジェクトを作成\n",
        "image_dataset = create_dataset_from_images(image_folder)\n",
        "\n",
        "# DatasetをHugging Face Hubにアップロード\n",
        "upload_dataset_to_hub(image_dataset, 'mf-train-cn-100-sets', 'msy78')\n"
      ]
    },
    {
      "cell_type": "code",
      "execution_count": null,
      "metadata": {
        "id": "gqqwFgMfdLtq"
      },
      "outputs": [],
      "source": [
        "# @title Train ControlNet\n",
        "\n",
        "%cd /content/drive/MyDrive/diffusers/examples/controlnet\n",
        "\n",
        "!accelerate launch train_controlnet.py \\\n",
        "--pretrained_model_name_or_path=\"runwayml/stable-diffusion-v1-5\" \\\n",
        "--output_dir=\"model_out\" \\\n",
        "--dataset_name=msy78/mf-train-cn-100-sets-v2 \\\n",
        "--conditioning_image_column=conditioning \\\n",
        "--image_column=\"image\" \\\n",
        "--caption_column=\"caption\" \\\n",
        "--resolution=512 \\\n",
        "--learning_rate=1e-5 \\\n",
        "--validation_image \"./dev_controlnet/0000_211.png\" \"./dev_controlnet/0008_100.png\" \"./dev_controlnet/0010_34.png\" \"./dev_controlnet/0020_225.png\" \"./dev_controlnet/0030_91.png\" \"./dev_controlnet/0088_120.png\" \\\n",
        "--validation_prompt \"lineart\" \\\n",
        "--num_train_epochs=5 \\\n",
        "--tracker_project_name=\"controlnet\" \\\n",
        "--checkpointing_steps=1000 \\\n",
        "--validation_steps=1000 \\\n",
        "--resume_from_checkpoint 'latest' \\\n",
        "\n"
      ]
    },
    {
      "cell_type": "code",
      "source": [
        "# !pip uninstall huggingface_hub\n",
        "# !pip install huggingface_hub==0.22.2"
      ],
      "metadata": {
        "id": "gSvTo_tGgMl2"
      },
      "execution_count": null,
      "outputs": []
    },
    {
      "cell_type": "code",
      "source": [
        "!python --version\n",
        "# !sudo apt install python3.12\n",
        "# !sudo update-alternatives --install /usr/bin/python3 python3 /usr/bin/python3.12 1\n",
        "# !sudo update-alternatives --config python3\n",
        "\n",
        "# !apt update\n",
        "# !apt upgrade\n",
        "# !apt install python3.12 python3.12-dev python3.12-distutils libpython3.12-dev\n",
        "# !update-alternatives --install /usr/bin/python3 python3 /usr/bin/python3.12 1\n",
        "# !wget https://bootstrap.pypa.io/get-pip.py\n",
        "# !python3.12 get-pip.py"
      ],
      "metadata": {
        "id": "XFcFWD0VkUqJ"
      },
      "execution_count": null,
      "outputs": []
    },
    {
      "cell_type": "code",
      "source": [
        "!python --version\n",
        "!pip --version\n",
        "print(huggingface_hub.__version__)"
      ],
      "metadata": {
        "id": "ZukjvXmeoQNF"
      },
      "execution_count": null,
      "outputs": []
    },
    {
      "cell_type": "code",
      "source": [
        "# @title モデル学習評価\n",
        "\n",
        "from diffusers.models.controlnet import ControlNetModel\n",
        "from diffusers.pipelines.controlnet.pipeline_controlnet import StableDiffusionControlNetPipeline\n",
        "from diffusers.utils.loading_utils import load_image\n",
        "import torch\n",
        "\n",
        "%cd /content/drive/MyDrive/diffusers/examples/controlnet\n",
        "!ls\n",
        "\n",
        "controlnet = ControlNetModel.from_pretrained(\"./model_out/checkpoint-31000/controlnet\", torch_dtype=torch.float16)\n",
        "pipe = StableDiffusionControlNetPipeline.from_pretrained(\n",
        "    \"runwayml/stable-diffusion-v1-5\", controlnet=controlnet, torch_dtype=torch.float16\n",
        ").to(\"cuda\")\n",
        "\n",
        "# NSFW対策\n",
        "pipe.safety_checker = None\n",
        "pipe.requires_safety_checker = False\n",
        "\n",
        "control_image = load_image(\"./test5.png\")\n",
        "prompt = \"lineart\"\n",
        "\n",
        "generator = torch.manual_seed(3)\n",
        "image = pipe(prompt, controlnet_conditioning_scale = 1.0, controlnet_conditioning_scalenum_inference_steps=20, generator=generator, image=control_image).images[0]\n",
        "image.save(\"./output-test-5-3.png\")\n"
      ],
      "metadata": {
        "id": "OHjYh37nWPUo"
      },
      "execution_count": null,
      "outputs": []
    }
  ],
  "metadata": {
    "accelerator": "GPU",
    "colab": {
      "gpuType": "A100",
      "machine_shape": "hm",
      "provenance": [],
      "authorship_tag": "ABX9TyM5h+XJQdmiHjhJA+le/a6A",
      "include_colab_link": true
    },
    "kernelspec": {
      "display_name": "Python 3",
      "name": "python3"
    },
    "language_info": {
      "name": "python"
    }
  },
  "nbformat": 4,
  "nbformat_minor": 0
}